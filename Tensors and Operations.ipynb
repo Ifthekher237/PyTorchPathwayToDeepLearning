{
 "cells": [
  {
   "cell_type": "code",
   "execution_count": null,
   "id": "0723b429",
   "metadata": {},
   "outputs": [],
   "source": [
    "import torch"
   ]
  },
  {
   "cell_type": "markdown",
   "id": "32b0306b",
   "metadata": {},
   "source": [
    "# Torch Tensors-part 1"
   ]
  },
  {
   "cell_type": "code",
   "execution_count": null,
   "id": "536a778b",
   "metadata": {},
   "outputs": [],
   "source": [
    "#This is a 1-D tensor\n",
    "a = torch.tensor([2,2,1])\n",
    "print(a)"
   ]
  },
  {
   "cell_type": "code",
   "execution_count": null,
   "id": "72e9f6e4",
   "metadata": {},
   "outputs": [],
   "source": [
    "#This is a 2-D tensor\n",
    "b = torch.tensor([[2,1,4],[3,5,4],[1,2,0],[4,3,2]])\n",
    "print(b)"
   ]
  },
  {
   "cell_type": "code",
   "execution_count": null,
   "id": "dd886e9a",
   "metadata": {},
   "outputs": [],
   "source": [
    "#The size of the tensors\n",
    "print(a.shape)\n",
    "print(b.shape)\n",
    "print(a.size())\n",
    "print(b.size())"
   ]
  },
  {
   "cell_type": "markdown",
   "id": "2163e890",
   "metadata": {},
   "source": [
    "basically shape and size() both give the same result. But shape is an attribute but size() is a method because it includes parentheses."
   ]
  },
  {
   "cell_type": "code",
   "execution_count": null,
   "id": "21a4096e",
   "metadata": {},
   "outputs": [],
   "source": [
    "#Get the height/number of rows of b\n",
    "print(b.shape[0])"
   ]
  },
  {
   "cell_type": "markdown",
   "id": "65f7c194",
   "metadata": {},
   "source": [
    "b is a ([4,3]) tensor. Here, the row number is in 0 index, that's why to know the number of rows we put 0 in shape attribute. "
   ]
  },
  {
   "cell_type": "code",
   "execution_count": null,
   "id": "01f841f4",
   "metadata": {},
   "outputs": [],
   "source": [
    "c = torch.FloatTensor([[2,1,4],[3,5,4],[1,2,0],[4,3,2]])\n",
    "#or we can do\n",
    "# c = torch.tensor([2,2,1], dtype = torch.float)\n",
    "print(c)"
   ]
  },
  {
   "cell_type": "code",
   "execution_count": null,
   "id": "01f4b100",
   "metadata": {},
   "outputs": [],
   "source": [
    "d = torch.DoubleTensor([[2,1,4],[3,5,4],[1,2,0],[4,3,2]])\n",
    "#or we can do\n",
    "# d = torch.tensor([2,2,1], dtype = torch.double)\n",
    "print(d)"
   ]
  },
  {
   "cell_type": "markdown",
   "id": "a4c2b96e",
   "metadata": {},
   "source": [
    "In Pytorch, a FloatTensor is a tensor of 32-bit floating-point numbers, while a DoubleTensor is a tensor of 64-bit floating-point numbers. The main reason for converting a FloatTensor to a DoubleTensor is to increase the precision of the tensor."
   ]
  },
  {
   "cell_type": "code",
   "execution_count": null,
   "id": "7f6ee583",
   "metadata": {},
   "outputs": [],
   "source": [
    "print(c.dtype)\n",
    "print(d.dtype)"
   ]
  },
  {
   "cell_type": "code",
   "execution_count": null,
   "id": "1adc8164",
   "metadata": {},
   "outputs": [],
   "source": [
    "print(c.mean())"
   ]
  },
  {
   "cell_type": "code",
   "execution_count": null,
   "id": "eea01b22",
   "metadata": {},
   "outputs": [],
   "source": [
    "print(d.mean())"
   ]
  },
  {
   "cell_type": "code",
   "execution_count": null,
   "id": "2707233f",
   "metadata": {},
   "outputs": [],
   "source": [
    "print(c.std())"
   ]
  },
  {
   "cell_type": "code",
   "execution_count": null,
   "id": "1c0726e7",
   "metadata": {},
   "outputs": [],
   "source": [
    "print(d.std())"
   ]
  },
  {
   "cell_type": "code",
   "execution_count": null,
   "id": "9af234e6",
   "metadata": {},
   "outputs": [],
   "source": [
    "#Reshape b\n",
    "#The method to reshape a tensor is called view()\n",
    "#Note: If one of the dimensions is -1, its size can be inferred. that means, if we used -1 in row index then after looking at the \n",
    "#column index, it will automatically what row number should be. Say, for this example, if col_ind=1, then it will automatically \n",
    "#create 12 rows. if col_index=2, it will automatically create 6 rows. Same thing happens, when we put -1 in column index.\n",
    "print(b.view(-1,1))\n",
    "print(b.view(12))\n",
    "print(b.view(-1,4))\n",
    "print(b.view(3,4))\n",
    "#Assign b a new shape\n",
    "b = b.view(1,-1)\n",
    "print(b)\n",
    "print(b.shape)\n",
    "#We can even reshape 3D tensors\n",
    "print('\\n')\n",
    "#Create a 3D Tensor with 2 channels, 3 rows and 4 columns (channels,rows,columns)\n",
    "three_dim = torch.randn(2,3,4)\n",
    "print('\\n')\n",
    "print('Printing 3-D tensor:')\n",
    "print(three_dim)\n",
    "print('\\nthe 3-D tensor is reshaped to 2-D:')\n",
    "print(three_dim.view(2,12)) #Reshape to 2 rows, 12 columns\n",
    "print(three_dim.view(2,-1))"
   ]
  },
  {
   "cell_type": "markdown",
   "id": "67a37b85",
   "metadata": {},
   "source": [
    "# Torch Tensors-part 2"
   ]
  },
  {
   "cell_type": "code",
   "execution_count": null,
   "id": "f02c98c9",
   "metadata": {},
   "outputs": [],
   "source": [
    "#create a matrix with random numbers between 0 and 1\n",
    "r = torch.rand(4,4)\n",
    "print(r)"
   ]
  },
  {
   "cell_type": "code",
   "execution_count": null,
   "id": "0475f827",
   "metadata": {},
   "outputs": [],
   "source": [
    "#create a matrix with random numbers taken from a normal distribution with mean 0 and variance 1\n",
    "r2 = torch.randn(4,4)\n",
    "print(r2)\n",
    "print(r2.dtype)"
   ]
  },
  {
   "cell_type": "code",
   "execution_count": null,
   "id": "19380958",
   "metadata": {},
   "outputs": [],
   "source": [
    "#create an array of 5 random integers from values between 6 and 9(exclusive of 10)\n",
    "in_array = torch.randint(6,10,(5,))\n",
    "print(in_array)\n",
    "print(in_array.dtype)"
   ]
  },
  {
   "cell_type": "code",
   "execution_count": null,
   "id": "10eba4f5",
   "metadata": {},
   "outputs": [],
   "source": [
    "#create a 2-D array (or matrix) of size 3*3 filled with random integers from values between 6 and 9(exclusive 10)\n",
    "in_array2 = torch.randint(6,10,(3,3))\n",
    "print(in_array2)"
   ]
  },
  {
   "cell_type": "code",
   "execution_count": null,
   "id": "f410dd53",
   "metadata": {},
   "outputs": [],
   "source": [
    "#Get the number of elements in in_array\n",
    "print(torch.numel(in_array))\n",
    "#Get the number of elements in in_array2\n",
    "print(torch.numel(in_array2))"
   ]
  },
  {
   "cell_type": "code",
   "execution_count": null,
   "id": "218b59c2",
   "metadata": {},
   "outputs": [],
   "source": [
    "#Construct a 3*3 matrix of zeros and of dtype long\n",
    "z = torch.zeros(3,3, dtype=torch.long)\n",
    "print(z)\n",
    "#Construct a 3*3 matrix of ones\n",
    "o = torch.ones(3,3)\n",
    "print(o)\n",
    "print(o.dtype)"
   ]
  },
  {
   "cell_type": "code",
   "execution_count": null,
   "id": "7029a101",
   "metadata": {},
   "outputs": [],
   "source": [
    "r2_like = torch.randn_like(r2, dtype=torch.double)  #convert the data type of tensor\n",
    "# randn_like copies the size of r2\n",
    "print(r2_like)"
   ]
  },
  {
   "cell_type": "code",
   "execution_count": null,
   "id": "ce7e76ee",
   "metadata": {},
   "outputs": [],
   "source": [
    "#Add two tensors, make sure they are the same size and data type\n",
    "add_result = torch.add(r,r2)\n",
    "print(add_result)"
   ]
  },
  {
   "cell_type": "code",
   "execution_count": null,
   "id": "d5809cd2",
   "metadata": {},
   "outputs": [],
   "source": [
    "#In-place addition (change the value of r2)\n",
    "r2.add_(r)  #same as r2 = torch.add(r,r2)\n",
    "print(r2)"
   ]
  },
  {
   "cell_type": "code",
   "execution_count": null,
   "id": "130abbcc",
   "metadata": {},
   "outputs": [],
   "source": [
    "#slicing\n",
    "print(r2[:,1])\n",
    "print(r2[:,:2])\n",
    "print(r2[:3,:])\n",
    "num_ten = r2[2,3]  #extracting a single number from the tensor. still a tensor\n",
    "print(num_ten)\n",
    "print(num_ten.item()) #to write as a normal number, not a tensor\n",
    "print(r2[2,:])"
   ]
  },
  {
   "cell_type": "markdown",
   "id": "7644dc2b",
   "metadata": {},
   "source": [
    "# Numpy Bridge"
   ]
  },
  {
   "cell_type": "code",
   "execution_count": null,
   "id": "a2cc441a",
   "metadata": {},
   "outputs": [],
   "source": [
    "import numpy as np"
   ]
  },
  {
   "cell_type": "code",
   "execution_count": null,
   "id": "80571631",
   "metadata": {},
   "outputs": [],
   "source": [
    "#converting a torch tensor to a numpy array\n",
    "a = torch.ones(5)\n",
    "print(a)\n",
    "b = a.numpy()\n",
    "print(b)\n",
    "#see how the numpy array changes their value.\n",
    "a.add_(1)\n",
    "print(a)\n",
    "print(b)"
   ]
  },
  {
   "cell_type": "markdown",
   "id": "44f2d33f",
   "metadata": {},
   "source": [
    "so, if a numpy array is created from a tensor, then if the tensor is somehow modified then the numpy array is also affected."
   ]
  },
  {
   "cell_type": "code",
   "execution_count": null,
   "id": "bf9a7260",
   "metadata": {},
   "outputs": [],
   "source": [
    "#converting numpy array to tensor\n",
    "#see how changing the np array change the torch tensor automatically\n",
    "a = np.ones(5)\n",
    "b = torch.from_numpy(a)\n",
    "np.add(a,1,out=a)\n",
    "print(a)\n",
    "print(b)"
   ]
  },
  {
   "cell_type": "code",
   "execution_count": null,
   "id": "251127e1",
   "metadata": {},
   "outputs": [],
   "source": [
    "#move the tensor to the GPU\n",
    "r2 = r2.cuda()\n",
    "print(r2)"
   ]
  },
  {
   "cell_type": "code",
   "execution_count": null,
   "id": "5a43e036",
   "metadata": {},
   "outputs": [],
   "source": [
    "#provide easy switching between CPU and GPU\n",
    "CUDA = torch.cuda.is_available()\n",
    "print(CUDA)\n",
    "if CUDA:\n",
    "    add_result = add_result.cuda() #if cuda is available, move to cuda\n",
    "    print(add_result)"
   ]
  },
  {
   "cell_type": "code",
   "execution_count": null,
   "id": "634b68e7",
   "metadata": {},
   "outputs": [],
   "source": [
    "#you can also convert a list to a tensor\n",
    "a = [2,3,4,1]\n",
    "print(a)\n",
    "to_list = torch.tensor(a)\n",
    "print(to_list, to_list.dtype)"
   ]
  },
  {
   "cell_type": "code",
   "execution_count": null,
   "id": "67b4e973",
   "metadata": {},
   "outputs": [],
   "source": [
    "data = [[1., 2.],[3., 4.],\n",
    "       [5., 6.], [7., 8.]]\n",
    "T = torch.tensor(data)\n",
    "print(T, T.dtype)"
   ]
  },
  {
   "cell_type": "markdown",
   "id": "cfbacf8d",
   "metadata": {},
   "source": [
    "# Tensor Concatenation"
   ]
  },
  {
   "cell_type": "code",
   "execution_count": null,
   "id": "e181a9f5",
   "metadata": {},
   "outputs": [],
   "source": [
    "#Tensor concatenation\n",
    "first_1 = torch.randn(2,5)\n",
    "print(first_1)\n",
    "second_1 = torch.randn(3,5)\n",
    "print(second_1)\n",
    "#concatenate along the 0 dimension (concatenate rows)\n",
    "con_1 = torch.cat([first_1, second_1])\n",
    "print('\\n')\n",
    "print(con_1)\n",
    "print('\\n')\n",
    "first_2 = torch.rand(2,3)\n",
    "print(first_2)\n",
    "second_2 = torch.randn(2,5)\n",
    "print(second_2)\n",
    "#concatenate along the 1 dimension (concatenate columns)\n",
    "con_2 = torch.cat([first_2, second_2],1)\n",
    "print('\\n')\n",
    "print(con_2)\n",
    "print('\\n')"
   ]
  },
  {
   "cell_type": "markdown",
   "id": "9d83777c",
   "metadata": {},
   "source": [
    "# Adding dimensions to Tensors\n",
    "\"unsqueeze\" is a powerful tool that allows us to add and additional dimension to a tensor. we just define in which axis we want to unsqueeze the tensor, how it will be unsqueezed in that axis is automatically determined by the machine."
   ]
  },
  {
   "cell_type": "code",
   "execution_count": null,
   "id": "dcd77d2a",
   "metadata": {
    "scrolled": true
   },
   "outputs": [],
   "source": [
    "tensor_1 = torch.tensor([1,2,3,4]) #1-D tensor\n",
    "tensor_a = torch.unsqueeze(tensor_1, 0) #became a 2-D tensor\n",
    "print('tensor a:')\n",
    "print(tensor_a)\n",
    "print('\\ntensor a shape')\n",
    "print(tensor_a.shape)\n",
    "tensor_b = torch.unsqueeze(tensor_1,1)\n",
    "print('\\ntensor b')\n",
    "print(tensor_b)\n",
    "print('\\ntensor b shape')\n",
    "print(tensor_b.shape)\n",
    "print('\\n')\n",
    "tensor_2 = torch.rand(2,3,4)\n",
    "print('tensor 2')\n",
    "print(tensor_2)\n",
    "print('\\n')\n",
    "tensor_c = tensor_2[:,:,2]\n",
    "print('tensor c')\n",
    "print(tensor_c)\n",
    "print('\\ntensor c shape')\n",
    "print(tensor_c.shape)\n",
    "print('\\n')\n",
    "tensor_d = torch.unsqueeze(tensor_c,2)\n",
    "print('tensor d')\n",
    "print(tensor_d)\n",
    "print('\\ntensor d shape')\n",
    "print(tensor_d.shape)"
   ]
  },
  {
   "cell_type": "markdown",
   "id": "84220267",
   "metadata": {},
   "source": [
    "# Removing dimension from tensors\n",
    "When we unsqueeze a tensor, a new dimension of size 1 is inserted at the specified position.  Always an unsqueeze operation increases the dimension of the output tensor. For example, if the input tensor is of shape:  (m×n) and we want to insert a new dimension at position 1 then the output tensor after unsqueeze will be of shape: (m×1×n). But When we squeeze a tensor, the dimensions of size 1 are removed. The elements of the original tensor are arranged with the remaining dimensions. For example, if the input tensor is of shape: (m×1×n×1) then the output tensor after squeeze will be of shape: (m×n)."
   ]
  },
  {
   "cell_type": "code",
   "execution_count": null,
   "id": "7008405c",
   "metadata": {
    "scrolled": true
   },
   "outputs": [],
   "source": [
    "# creating the input tensor\n",
    "input = torch.randn(3,1,2,1,4)\n",
    "print(\"Dimension of input tensor:\", input.dim())\n",
    "print(\"Input tensor Size:\\n\",input.size())\n",
    "\n",
    "# squeeze the tensor in dimension 0\n",
    "output = torch.squeeze(input, 0)\n",
    "print(\"Size after squeeze with dim=0:\\n\",output.size())\n",
    "\n",
    "# squeeze the tensor in dimension 0\n",
    "output = torch.squeeze(input, 1)\n",
    "print(\"Size after squeeze with dim=1:\\n\",output.size())\n",
    "\n",
    "# squeeze the tensor in dimension 0\n",
    "output = torch.squeeze(input, 2)\n",
    "print(\"Size after squeeze with dim=2:\\n\",output.size())\n",
    "\n",
    "# squeeze the tensor in dimension 0\n",
    "output = torch.squeeze(input, 3)\n",
    "print(\"Size after squeeze with dim=3:\\n\",output.size())\n",
    "\n",
    "# squeeze the tensor in dimension 0\n",
    "output = torch.squeeze(input, 4)\n",
    "print(\"Size after squeeze with dim=4:\\n\",output.size())\n"
   ]
  },
  {
   "cell_type": "markdown",
   "id": "3228e310",
   "metadata": {},
   "source": [
    "Notice that when we squeeze the tensor in dimension 0, there is no change in the shape of the output tensor. When we squeeze in dimension 1 or in dimension 3 (both are of size 1), only this dimension is removed in the output tensor. When we squeeze in dimension 2 or in dimension 4, there is no change in the shape of the output tensor."
   ]
  }
 ],
 "metadata": {
  "kernelspec": {
   "display_name": "Python 3 (ipykernel)",
   "language": "python",
   "name": "python3"
  },
  "language_info": {
   "codemirror_mode": {
    "name": "ipython",
    "version": 3
   },
   "file_extension": ".py",
   "mimetype": "text/x-python",
   "name": "python",
   "nbconvert_exporter": "python",
   "pygments_lexer": "ipython3",
   "version": "3.10.9"
  }
 },
 "nbformat": 4,
 "nbformat_minor": 5
}
