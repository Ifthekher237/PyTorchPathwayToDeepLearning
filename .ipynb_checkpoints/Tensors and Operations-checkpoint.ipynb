{
 "cells": [
  {
   "cell_type": "code",
   "execution_count": 2,
   "id": "0723b429",
   "metadata": {},
   "outputs": [],
   "source": [
    "import torch"
   ]
  },
  {
   "cell_type": "markdown",
   "id": "32b0306b",
   "metadata": {},
   "source": [
    "# Torch Tensors-part 1"
   ]
  },
  {
   "cell_type": "code",
   "execution_count": 3,
   "id": "536a778b",
   "metadata": {},
   "outputs": [
    {
     "name": "stdout",
     "output_type": "stream",
     "text": [
      "tensor([2, 2, 1])\n"
     ]
    }
   ],
   "source": [
    "#This is a 1-D tensor\n",
    "a = torch.tensor([2,2,1])\n",
    "print(a)"
   ]
  },
  {
   "cell_type": "code",
   "execution_count": 4,
   "id": "72e9f6e4",
   "metadata": {},
   "outputs": [
    {
     "name": "stdout",
     "output_type": "stream",
     "text": [
      "tensor([[2, 1, 4],\n",
      "        [3, 5, 4],\n",
      "        [1, 2, 0],\n",
      "        [4, 3, 2]])\n"
     ]
    }
   ],
   "source": [
    "#This is a 2-D tensor\n",
    "b = torch.tensor([[2,1,4],[3,5,4],[1,2,0],[4,3,2]])\n",
    "print(b)"
   ]
  },
  {
   "cell_type": "code",
   "execution_count": 5,
   "id": "dd886e9a",
   "metadata": {},
   "outputs": [
    {
     "name": "stdout",
     "output_type": "stream",
     "text": [
      "torch.Size([3])\n",
      "torch.Size([4, 3])\n",
      "torch.Size([3])\n",
      "torch.Size([4, 3])\n"
     ]
    }
   ],
   "source": [
    "#The size of the tensors\n",
    "print(a.shape)\n",
    "print(b.shape)\n",
    "print(a.size())\n",
    "print(b.size())"
   ]
  },
  {
   "cell_type": "markdown",
   "id": "2163e890",
   "metadata": {},
   "source": [
    "basically shape and size() both give the same result. But shape is an attribute but size() is a method because it includes parentheses."
   ]
  },
  {
   "cell_type": "code",
   "execution_count": 6,
   "id": "21a4096e",
   "metadata": {},
   "outputs": [
    {
     "name": "stdout",
     "output_type": "stream",
     "text": [
      "4\n"
     ]
    }
   ],
   "source": [
    "#Get the height/number of rows of b\n",
    "print(b.shape[0])"
   ]
  },
  {
   "cell_type": "markdown",
   "id": "65f7c194",
   "metadata": {},
   "source": [
    "b is a ([4,3]) tensor. Here, the row number is in 0 index, that's why to know the number of rows we put 0 in shape attribute. "
   ]
  },
  {
   "cell_type": "code",
   "execution_count": 7,
   "id": "01f841f4",
   "metadata": {},
   "outputs": [
    {
     "name": "stdout",
     "output_type": "stream",
     "text": [
      "tensor([[2., 1., 4.],\n",
      "        [3., 5., 4.],\n",
      "        [1., 2., 0.],\n",
      "        [4., 3., 2.]])\n"
     ]
    }
   ],
   "source": [
    "c = torch.FloatTensor([[2,1,4],[3,5,4],[1,2,0],[4,3,2]])\n",
    "#or we can do\n",
    "# c = torch.tensor([2,2,1], dtype = torch.float)\n",
    "print(c)"
   ]
  },
  {
   "cell_type": "code",
   "execution_count": 8,
   "id": "01f4b100",
   "metadata": {},
   "outputs": [
    {
     "name": "stdout",
     "output_type": "stream",
     "text": [
      "tensor([[2., 1., 4.],\n",
      "        [3., 5., 4.],\n",
      "        [1., 2., 0.],\n",
      "        [4., 3., 2.]], dtype=torch.float64)\n"
     ]
    }
   ],
   "source": [
    "d = torch.DoubleTensor([[2,1,4],[3,5,4],[1,2,0],[4,3,2]])\n",
    "#or we can do\n",
    "# d = torch.tensor([2,2,1], dtype = torch.double)\n",
    "print(d)"
   ]
  },
  {
   "cell_type": "markdown",
   "id": "a4c2b96e",
   "metadata": {},
   "source": [
    "In Pytorch, a FloatTensor is a tensor of 32-bit floating-point numbers, while a DoubleTensor is a tensor of 64-bit floating-point numbers. The main reason for converting a FloatTensor to a DoubleTensor is to increase the precision of the tensor."
   ]
  },
  {
   "cell_type": "code",
   "execution_count": 9,
   "id": "7f6ee583",
   "metadata": {},
   "outputs": [
    {
     "name": "stdout",
     "output_type": "stream",
     "text": [
      "torch.float32\n",
      "torch.float64\n"
     ]
    }
   ],
   "source": [
    "print(c.dtype)\n",
    "print(d.dtype)"
   ]
  },
  {
   "cell_type": "code",
   "execution_count": 10,
   "id": "1adc8164",
   "metadata": {},
   "outputs": [
    {
     "name": "stdout",
     "output_type": "stream",
     "text": [
      "tensor(2.5833)\n"
     ]
    }
   ],
   "source": [
    "print(c.mean())"
   ]
  },
  {
   "cell_type": "code",
   "execution_count": 11,
   "id": "eea01b22",
   "metadata": {},
   "outputs": [
    {
     "name": "stdout",
     "output_type": "stream",
     "text": [
      "tensor(2.5833, dtype=torch.float64)\n"
     ]
    }
   ],
   "source": [
    "print(d.mean())"
   ]
  },
  {
   "cell_type": "code",
   "execution_count": 12,
   "id": "2707233f",
   "metadata": {},
   "outputs": [
    {
     "name": "stdout",
     "output_type": "stream",
     "text": [
      "tensor(1.5050)\n"
     ]
    }
   ],
   "source": [
    "print(c.std())"
   ]
  },
  {
   "cell_type": "code",
   "execution_count": 13,
   "id": "1c0726e7",
   "metadata": {},
   "outputs": [
    {
     "name": "stdout",
     "output_type": "stream",
     "text": [
      "tensor(1.5050, dtype=torch.float64)\n"
     ]
    }
   ],
   "source": [
    "print(d.std())"
   ]
  },
  {
   "cell_type": "code",
   "execution_count": 14,
   "id": "9af234e6",
   "metadata": {},
   "outputs": [
    {
     "name": "stdout",
     "output_type": "stream",
     "text": [
      "tensor([[2],\n",
      "        [1],\n",
      "        [4],\n",
      "        [3],\n",
      "        [5],\n",
      "        [4],\n",
      "        [1],\n",
      "        [2],\n",
      "        [0],\n",
      "        [4],\n",
      "        [3],\n",
      "        [2]])\n",
      "tensor([2, 1, 4, 3, 5, 4, 1, 2, 0, 4, 3, 2])\n",
      "tensor([[2, 1, 4, 3],\n",
      "        [5, 4, 1, 2],\n",
      "        [0, 4, 3, 2]])\n",
      "tensor([[2, 1, 4, 3],\n",
      "        [5, 4, 1, 2],\n",
      "        [0, 4, 3, 2]])\n",
      "tensor([[2, 1, 4, 3, 5, 4, 1, 2, 0, 4, 3, 2]])\n",
      "torch.Size([1, 12])\n",
      "\n",
      "\n",
      "\n",
      "\n",
      "Printing 3-D tensor:\n",
      "tensor([[[ 1.4094, -1.0634,  0.8526,  0.8190],\n",
      "         [-1.5200, -0.2053, -0.7658,  0.7684],\n",
      "         [-1.5064, -0.4094, -0.0261, -0.4250]],\n",
      "\n",
      "        [[ 0.3740,  0.3952,  0.2368,  2.4993],\n",
      "         [-0.3143,  0.4856, -0.6345,  0.9078],\n",
      "         [ 0.4330, -1.3464, -0.4456, -1.3459]]])\n",
      "\n",
      "the 3-D tensor is reshaped to 2-D:\n",
      "tensor([[ 1.4094, -1.0634,  0.8526,  0.8190, -1.5200, -0.2053, -0.7658,  0.7684,\n",
      "         -1.5064, -0.4094, -0.0261, -0.4250],\n",
      "        [ 0.3740,  0.3952,  0.2368,  2.4993, -0.3143,  0.4856, -0.6345,  0.9078,\n",
      "          0.4330, -1.3464, -0.4456, -1.3459]])\n",
      "tensor([[ 1.4094, -1.0634,  0.8526,  0.8190, -1.5200, -0.2053, -0.7658,  0.7684,\n",
      "         -1.5064, -0.4094, -0.0261, -0.4250],\n",
      "        [ 0.3740,  0.3952,  0.2368,  2.4993, -0.3143,  0.4856, -0.6345,  0.9078,\n",
      "          0.4330, -1.3464, -0.4456, -1.3459]])\n"
     ]
    }
   ],
   "source": [
    "#Reshape b\n",
    "#The method to reshape a tensor is called view()\n",
    "#Note: If one of the dimensions is -1, its size can be inferred. that means, if we used -1 in row index then after looking at the \n",
    "#column index, it will automatically what row number should be. Say, for this example, if col_ind=1, then it will automatically \n",
    "#create 12 rows. if col_index=2, it will automatically create 6 rows. Same thing happens, when we put -1 in column index.\n",
    "print(b.view(-1,1))\n",
    "print(b.view(12))\n",
    "print(b.view(-1,4))\n",
    "print(b.view(3,4))\n",
    "#Assign b a new shape\n",
    "b = b.view(1,-1)\n",
    "print(b)\n",
    "print(b.shape)\n",
    "#We can even reshape 3D tensors\n",
    "print('\\n')\n",
    "#Create a 3D Tensor with 2 channels, 3 rows and 4 columns (channels,rows,columns)\n",
    "three_dim = torch.randn(2,3,4)\n",
    "print('\\n')\n",
    "print('Printing 3-D tensor:')\n",
    "print(three_dim)\n",
    "print('\\nthe 3-D tensor is reshaped to 2-D:')\n",
    "print(three_dim.view(2,12)) #Reshape to 2 rows, 12 columns\n",
    "print(three_dim.view(2,-1))"
   ]
  },
  {
   "cell_type": "markdown",
   "id": "67a37b85",
   "metadata": {},
   "source": [
    "# Torch Tensors-part 2"
   ]
  },
  {
   "cell_type": "code",
   "execution_count": 15,
   "id": "f02c98c9",
   "metadata": {},
   "outputs": [
    {
     "name": "stdout",
     "output_type": "stream",
     "text": [
      "tensor([[0.9579, 0.8883, 0.3509, 0.9048],\n",
      "        [0.1039, 0.1872, 0.4265, 0.8494],\n",
      "        [0.3685, 0.3367, 0.9610, 0.8015],\n",
      "        [0.0279, 0.1191, 0.6363, 0.7975]])\n"
     ]
    }
   ],
   "source": [
    "#create a matrix with random numbers between 0 and 1\n",
    "r = torch.rand(4,4)\n",
    "print(r)"
   ]
  },
  {
   "cell_type": "code",
   "execution_count": 16,
   "id": "0475f827",
   "metadata": {},
   "outputs": [
    {
     "name": "stdout",
     "output_type": "stream",
     "text": [
      "tensor([[-0.9050,  0.3871, -0.2047, -0.9469],\n",
      "        [ 0.6363, -0.6252,  0.5514,  0.8754],\n",
      "        [ 0.6529,  1.6462,  0.5727, -0.6188],\n",
      "        [-0.1267,  2.3043,  0.8309,  2.8126]])\n",
      "torch.float32\n"
     ]
    }
   ],
   "source": [
    "#create a matrix with random numbers taken from a normal distribution with mean 0 and variance 1\n",
    "r2 = torch.randn(4,4)\n",
    "print(r2)\n",
    "print(r2.dtype)"
   ]
  },
  {
   "cell_type": "code",
   "execution_count": 17,
   "id": "19380958",
   "metadata": {},
   "outputs": [
    {
     "name": "stdout",
     "output_type": "stream",
     "text": [
      "tensor([7, 8, 8, 9, 8])\n",
      "torch.int64\n"
     ]
    }
   ],
   "source": [
    "#create an array of 5 random integers from values between 6 and 9(exclusive of 10)\n",
    "in_array = torch.randint(6,10,(5,))\n",
    "print(in_array)\n",
    "print(in_array.dtype)"
   ]
  },
  {
   "cell_type": "code",
   "execution_count": 18,
   "id": "10eba4f5",
   "metadata": {},
   "outputs": [
    {
     "name": "stdout",
     "output_type": "stream",
     "text": [
      "tensor([[7, 6, 9],\n",
      "        [9, 6, 7],\n",
      "        [7, 8, 6]])\n"
     ]
    }
   ],
   "source": [
    "#create a 2-D array (or matrix) of size 3*3 filled with random integers from values between 6 and 9(exclusive 10)\n",
    "in_array2 = torch.randint(6,10,(3,3))\n",
    "print(in_array2)"
   ]
  },
  {
   "cell_type": "code",
   "execution_count": 19,
   "id": "f410dd53",
   "metadata": {},
   "outputs": [
    {
     "name": "stdout",
     "output_type": "stream",
     "text": [
      "5\n",
      "9\n"
     ]
    }
   ],
   "source": [
    "#Get the number of elements in in_array\n",
    "print(torch.numel(in_array))\n",
    "#Get the number of elements in in_array2\n",
    "print(torch.numel(in_array2))"
   ]
  },
  {
   "cell_type": "code",
   "execution_count": 20,
   "id": "218b59c2",
   "metadata": {},
   "outputs": [
    {
     "name": "stdout",
     "output_type": "stream",
     "text": [
      "tensor([[0, 0, 0],\n",
      "        [0, 0, 0],\n",
      "        [0, 0, 0]])\n",
      "tensor([[1., 1., 1.],\n",
      "        [1., 1., 1.],\n",
      "        [1., 1., 1.]])\n",
      "torch.float32\n"
     ]
    }
   ],
   "source": [
    "#Construct a 3*3 matrix of zeros and of dtype long\n",
    "z = torch.zeros(3,3, dtype=torch.long)\n",
    "print(z)\n",
    "#Construct a 3*3 matrix of ones\n",
    "o = torch.ones(3,3)\n",
    "print(o)\n",
    "print(o.dtype)"
   ]
  },
  {
   "cell_type": "code",
   "execution_count": 21,
   "id": "7029a101",
   "metadata": {},
   "outputs": [
    {
     "name": "stdout",
     "output_type": "stream",
     "text": [
      "tensor([[-1.7072,  1.0410, -1.0184,  0.0959],\n",
      "        [ 0.0129, -0.0927, -1.7317,  0.2862],\n",
      "        [ 0.8317,  0.4514, -0.1569, -2.6680],\n",
      "        [-0.5172, -1.4697, -0.6665, -0.0287]], dtype=torch.float64)\n"
     ]
    }
   ],
   "source": [
    "r2_like = torch.randn_like(r2, dtype=torch.double)  #convert the data type of tensor\n",
    "# randn_like copies the size of r2\n",
    "print(r2_like)"
   ]
  },
  {
   "cell_type": "code",
   "execution_count": 22,
   "id": "ce7e76ee",
   "metadata": {},
   "outputs": [
    {
     "name": "stdout",
     "output_type": "stream",
     "text": [
      "tensor([[ 0.0529,  1.2754,  0.1461, -0.0421],\n",
      "        [ 0.7402, -0.4380,  0.9779,  1.7248],\n",
      "        [ 1.0214,  1.9828,  1.5336,  0.1827],\n",
      "        [-0.0988,  2.4234,  1.4672,  3.6101]])\n"
     ]
    }
   ],
   "source": [
    "#Add two tensors, make sure they are the same size and data type\n",
    "add_result = torch.add(r,r2)\n",
    "print(add_result)"
   ]
  },
  {
   "cell_type": "code",
   "execution_count": 23,
   "id": "d5809cd2",
   "metadata": {},
   "outputs": [
    {
     "name": "stdout",
     "output_type": "stream",
     "text": [
      "tensor([[ 0.0529,  1.2754,  0.1461, -0.0421],\n",
      "        [ 0.7402, -0.4380,  0.9779,  1.7248],\n",
      "        [ 1.0214,  1.9828,  1.5336,  0.1827],\n",
      "        [-0.0988,  2.4234,  1.4672,  3.6101]])\n"
     ]
    }
   ],
   "source": [
    "#In-place addition (change the value of r2)\n",
    "r2.add_(r)  #same as r2 = torch.add(r,r2)\n",
    "print(r2)"
   ]
  },
  {
   "cell_type": "code",
   "execution_count": 24,
   "id": "130abbcc",
   "metadata": {},
   "outputs": [
    {
     "name": "stdout",
     "output_type": "stream",
     "text": [
      "tensor([ 1.2754, -0.4380,  1.9828,  2.4234])\n",
      "tensor([[ 0.0529,  1.2754],\n",
      "        [ 0.7402, -0.4380],\n",
      "        [ 1.0214,  1.9828],\n",
      "        [-0.0988,  2.4234]])\n",
      "tensor([[ 0.0529,  1.2754,  0.1461, -0.0421],\n",
      "        [ 0.7402, -0.4380,  0.9779,  1.7248],\n",
      "        [ 1.0214,  1.9828,  1.5336,  0.1827]])\n",
      "tensor(0.1827)\n",
      "0.18273115158081055\n",
      "tensor([1.0214, 1.9828, 1.5336, 0.1827])\n"
     ]
    }
   ],
   "source": [
    "#slicing\n",
    "print(r2[:,1])\n",
    "print(r2[:,:2])\n",
    "print(r2[:3,:])\n",
    "num_ten = r2[2,3]  #extracting a single number from the tensor. still a tensor\n",
    "print(num_ten)\n",
    "print(num_ten.item()) #to write as a normal number, not a tensor\n",
    "print(r2[2,:])"
   ]
  },
  {
   "cell_type": "markdown",
   "id": "7644dc2b",
   "metadata": {},
   "source": [
    "# Numpy Bridge"
   ]
  },
  {
   "cell_type": "code",
   "execution_count": 25,
   "id": "a2cc441a",
   "metadata": {},
   "outputs": [],
   "source": [
    "import numpy as np"
   ]
  },
  {
   "cell_type": "code",
   "execution_count": 26,
   "id": "80571631",
   "metadata": {},
   "outputs": [
    {
     "name": "stdout",
     "output_type": "stream",
     "text": [
      "tensor([1., 1., 1., 1., 1.])\n",
      "[1. 1. 1. 1. 1.]\n",
      "tensor([2., 2., 2., 2., 2.])\n",
      "[2. 2. 2. 2. 2.]\n"
     ]
    }
   ],
   "source": [
    "#converting a torch tensor to a numpy array\n",
    "a = torch.ones(5)\n",
    "print(a)\n",
    "b = a.numpy()\n",
    "print(b)\n",
    "#see how the numpy array changes their value.\n",
    "a.add_(1)\n",
    "print(a)\n",
    "print(b)"
   ]
  },
  {
   "cell_type": "markdown",
   "id": "44f2d33f",
   "metadata": {},
   "source": [
    "so, if a numpy array is created from a tensor, then if the tensor is somehow modified then the numpy array is also affected."
   ]
  },
  {
   "cell_type": "code",
   "execution_count": 29,
   "id": "bf9a7260",
   "metadata": {},
   "outputs": [
    {
     "name": "stdout",
     "output_type": "stream",
     "text": [
      "[2. 2. 2. 2. 2.]\n",
      "tensor([2., 2., 2., 2., 2.], dtype=torch.float64)\n"
     ]
    }
   ],
   "source": [
    "#converting numpy array to tensor\n",
    "#see how changing the np array change the torch tensor automatically\n",
    "a = np.ones(5)\n",
    "b = torch.from_numpy(a)\n",
    "np.add(a,1,out=a)\n",
    "print(a)\n",
    "print(b)"
   ]
  },
  {
   "cell_type": "code",
   "execution_count": 30,
   "id": "251127e1",
   "metadata": {},
   "outputs": [
    {
     "name": "stdout",
     "output_type": "stream",
     "text": [
      "tensor([[ 0.0529,  1.2754,  0.1461, -0.0421],\n",
      "        [ 0.7402, -0.4380,  0.9779,  1.7248],\n",
      "        [ 1.0214,  1.9828,  1.5336,  0.1827],\n",
      "        [-0.0988,  2.4234,  1.4672,  3.6101]], device='cuda:0')\n"
     ]
    }
   ],
   "source": [
    "#move the tensor to the GPU\n",
    "r2 = r2.cuda()\n",
    "print(r2)"
   ]
  },
  {
   "cell_type": "code",
   "execution_count": 32,
   "id": "5a43e036",
   "metadata": {},
   "outputs": [
    {
     "name": "stdout",
     "output_type": "stream",
     "text": [
      "True\n",
      "tensor([[ 0.0529,  1.2754,  0.1461, -0.0421],\n",
      "        [ 0.7402, -0.4380,  0.9779,  1.7248],\n",
      "        [ 1.0214,  1.9828,  1.5336,  0.1827],\n",
      "        [-0.0988,  2.4234,  1.4672,  3.6101]], device='cuda:0')\n"
     ]
    }
   ],
   "source": [
    "#provide easy switching between CPU and GPU\n",
    "CUDA = torch.cuda.is_available()\n",
    "print(CUDA)\n",
    "if CUDA:\n",
    "    add_result = add_result.cuda() #if cuda is available, move to cuda\n",
    "    print(add_result)"
   ]
  },
  {
   "cell_type": "code",
   "execution_count": 33,
   "id": "634b68e7",
   "metadata": {},
   "outputs": [
    {
     "name": "stdout",
     "output_type": "stream",
     "text": [
      "[2, 3, 4, 1]\n",
      "tensor([2, 3, 4, 1]) torch.int64\n"
     ]
    }
   ],
   "source": [
    "#you can also convert a list to a tensor\n",
    "a = [2,3,4,1]\n",
    "print(a)\n",
    "to_list = torch.tensor(a)\n",
    "print(to_list, to_list.dtype)"
   ]
  },
  {
   "cell_type": "code",
   "execution_count": 35,
   "id": "67b4e973",
   "metadata": {},
   "outputs": [
    {
     "name": "stdout",
     "output_type": "stream",
     "text": [
      "tensor([[1., 2.],\n",
      "        [3., 4.],\n",
      "        [5., 6.],\n",
      "        [7., 8.]]) torch.float32\n"
     ]
    }
   ],
   "source": [
    "data = [[1., 2.],[3., 4.],\n",
    "       [5., 6.], [7., 8.]]\n",
    "T = torch.tensor(data)\n",
    "print(T, T.dtype)"
   ]
  },
  {
   "cell_type": "markdown",
   "id": "cfbacf8d",
   "metadata": {},
   "source": [
    "# Tensor Concatenation"
   ]
  },
  {
   "cell_type": "code",
   "execution_count": 36,
   "id": "e181a9f5",
   "metadata": {},
   "outputs": [
    {
     "name": "stdout",
     "output_type": "stream",
     "text": [
      "tensor([[ 0.4097,  0.2347,  0.6910, -1.7255,  0.2219],\n",
      "        [ 0.4012,  0.4695, -0.2313, -0.4480, -0.1027]])\n",
      "tensor([[-1.0871, -0.8486,  0.2879, -1.1033, -0.1736],\n",
      "        [ 0.4265,  0.3109,  0.0669, -1.3934,  0.4228],\n",
      "        [ 0.4750, -0.5940,  0.5489,  1.1045, -0.9098]])\n",
      "\n",
      "\n",
      "tensor([[ 0.4097,  0.2347,  0.6910, -1.7255,  0.2219],\n",
      "        [ 0.4012,  0.4695, -0.2313, -0.4480, -0.1027],\n",
      "        [-1.0871, -0.8486,  0.2879, -1.1033, -0.1736],\n",
      "        [ 0.4265,  0.3109,  0.0669, -1.3934,  0.4228],\n",
      "        [ 0.4750, -0.5940,  0.5489,  1.1045, -0.9098]])\n",
      "\n",
      "\n",
      "tensor([[0.5406, 0.9524, 0.7999],\n",
      "        [0.7150, 0.6679, 0.6738]])\n",
      "tensor([[ 1.4908,  0.3415, -0.3051,  1.3305,  1.2806],\n",
      "        [ 0.4853, -0.6929,  0.5425,  0.2967, -1.2283]])\n",
      "\n",
      "\n",
      "tensor([[ 0.5406,  0.9524,  0.7999,  1.4908,  0.3415, -0.3051,  1.3305,  1.2806],\n",
      "        [ 0.7150,  0.6679,  0.6738,  0.4853, -0.6929,  0.5425,  0.2967, -1.2283]])\n",
      "\n",
      "\n"
     ]
    }
   ],
   "source": [
    "#Tensor concatenation\n",
    "first_1 = torch.randn(2,5)\n",
    "print(first_1)\n",
    "second_1 = torch.randn(3,5)\n",
    "print(second_1)\n",
    "#concatenate along the 0 dimension (concatenate rows)\n",
    "con_1 = torch.cat([first_1, second_1])\n",
    "print('\\n')\n",
    "print(con_1)\n",
    "print('\\n')\n",
    "first_2 = torch.rand(2,3)\n",
    "print(first_2)\n",
    "second_2 = torch.randn(2,5)\n",
    "print(second_2)\n",
    "#concatenate along the 1 dimension (concatenate columns)\n",
    "con_2 = torch.cat([first_2, second_2],1)\n",
    "print('\\n')\n",
    "print(con_2)\n",
    "print('\\n')"
   ]
  },
  {
   "cell_type": "markdown",
   "id": "9d83777c",
   "metadata": {},
   "source": [
    "# Adding dimensions to Tensors\n",
    "\"unsqueeze\" is a powerful tool that allows us to add and additional dimension to a tensor. we just define in which axis we want to unsqueeze the tensor, how it will be unsqueezed in that axis is automatically determined by the machine."
   ]
  },
  {
   "cell_type": "code",
   "execution_count": 46,
   "id": "dcd77d2a",
   "metadata": {},
   "outputs": [
    {
     "name": "stdout",
     "output_type": "stream",
     "text": [
      "tensor a:\n",
      "tensor([[1, 2, 3, 4]])\n",
      "\n",
      "tensor a shape\n",
      "torch.Size([1, 4])\n",
      "\n",
      "tensor b\n",
      "tensor([[1],\n",
      "        [2],\n",
      "        [3],\n",
      "        [4]])\n",
      "\n",
      "tensor b shape\n",
      "torch.Size([4, 1])\n",
      "\n",
      "\n",
      "tensor 2\n",
      "tensor([[[0.3737, 0.8459, 0.3821, 0.7067],\n",
      "         [0.3694, 0.4570, 0.0793, 0.6873],\n",
      "         [0.8686, 0.3012, 0.6379, 0.7540]],\n",
      "\n",
      "        [[0.8141, 0.0712, 0.2689, 0.9126],\n",
      "         [0.3701, 0.6793, 0.5256, 0.6240],\n",
      "         [0.7287, 0.1335, 0.4089, 0.9892]]])\n",
      "\n",
      "\n",
      "tensor c\n",
      "tensor([[0.3821, 0.0793, 0.6379],\n",
      "        [0.2689, 0.5256, 0.4089]])\n",
      "\n",
      "tensor c shape\n",
      "torch.Size([2, 3])\n",
      "\n",
      "\n",
      "tensor d\n",
      "tensor([[[0.3821],\n",
      "         [0.0793],\n",
      "         [0.6379]],\n",
      "\n",
      "        [[0.2689],\n",
      "         [0.5256],\n",
      "         [0.4089]]])\n",
      "\n",
      "tensor d shape\n",
      "torch.Size([2, 3, 1])\n"
     ]
    }
   ],
   "source": [
    "tensor_1 = torch.tensor([1,2,3,4]) #1-D tensor\n",
    "tensor_a = torch.unsqueeze(tensor_1, 0) #became a 2-D tensor\n",
    "print('tensor a:')\n",
    "print(tensor_a)\n",
    "print('\\ntensor a shape')\n",
    "print(tensor_a.shape)\n",
    "tensor_b = torch.unsqueeze(tensor_1,1)\n",
    "print('\\ntensor b')\n",
    "print(tensor_b)\n",
    "print('\\ntensor b shape')\n",
    "print(tensor_b.shape)\n",
    "print('\\n')\n",
    "tensor_2 = torch.rand(2,3,4)\n",
    "print('tensor 2')\n",
    "print(tensor_2)\n",
    "print('\\n')\n",
    "tensor_c = tensor_2[:,:,2]\n",
    "print('tensor c')\n",
    "print(tensor_c)\n",
    "print('\\ntensor c shape')\n",
    "print(tensor_c.shape)\n",
    "print('\\n')\n",
    "tensor_d = torch.unsqueeze(tensor_c,2)\n",
    "print('tensor d')\n",
    "print(tensor_d)\n",
    "print('\\ntensor d shape')\n",
    "print(tensor_d.shape)"
   ]
  },
  {
   "cell_type": "markdown",
   "id": "84220267",
   "metadata": {},
   "source": [
    "# Removing dimension from tensors\n",
    "When we unsqueeze a tensor, a new dimension of size 1 is inserted at the specified position.  Always an unsqueeze operation increases the dimension of the output tensor. For example, if the input tensor is of shape:  (m×n) and we want to insert a new dimension at position 1 then the output tensor after unsqueeze will be of shape: (m×1×n). But When we squeeze a tensor, the dimensions of size 1 are removed. The elements of the original tensor are arranged with the remaining dimensions. For example, if the input tensor is of shape: (m×1×n×1) then the output tensor after squeeze will be of shape: (m×n)."
   ]
  },
  {
   "cell_type": "code",
   "execution_count": 53,
   "id": "7008405c",
   "metadata": {
    "scrolled": true
   },
   "outputs": [
    {
     "name": "stdout",
     "output_type": "stream",
     "text": [
      "Dimension of input tensor: 5\n",
      "Input tensor Size:\n",
      " torch.Size([3, 1, 2, 1, 4])\n",
      "Size after squeeze with dim=0:\n",
      " torch.Size([3, 1, 2, 1, 4])\n",
      "Size after squeeze with dim=1:\n",
      " torch.Size([3, 2, 1, 4])\n",
      "Size after squeeze with dim=2:\n",
      " torch.Size([3, 1, 2, 1, 4])\n",
      "Size after squeeze with dim=3:\n",
      " torch.Size([3, 1, 2, 4])\n",
      "Size after squeeze with dim=4:\n",
      " torch.Size([3, 1, 2, 1, 4])\n"
     ]
    }
   ],
   "source": [
    "# creating the input tensor\n",
    "input = torch.randn(3,1,2,1,4)\n",
    "print(\"Dimension of input tensor:\", input.dim())\n",
    "print(\"Input tensor Size:\\n\",input.size())\n",
    "\n",
    "# squeeze the tensor in dimension 0\n",
    "output = torch.squeeze(input, 0)\n",
    "print(\"Size after squeeze with dim=0:\\n\",output.size())\n",
    "\n",
    "# squeeze the tensor in dimension 0\n",
    "output = torch.squeeze(input, 1)\n",
    "print(\"Size after squeeze with dim=1:\\n\",output.size())\n",
    "\n",
    "# squeeze the tensor in dimension 0\n",
    "output = torch.squeeze(input, 2)\n",
    "print(\"Size after squeeze with dim=2:\\n\",output.size())\n",
    "\n",
    "# squeeze the tensor in dimension 0\n",
    "output = torch.squeeze(input, 3)\n",
    "print(\"Size after squeeze with dim=3:\\n\",output.size())\n",
    "\n",
    "# squeeze the tensor in dimension 0\n",
    "output = torch.squeeze(input, 4)\n",
    "print(\"Size after squeeze with dim=4:\\n\",output.size())\n"
   ]
  },
  {
   "cell_type": "markdown",
   "id": "3228e310",
   "metadata": {},
   "source": [
    "Notice that when we squeeze the tensor in dimension 0, there is no change in the shape of the output tensor. When we squeeze in dimension 1 or in dimension 3 (both are of size 1), only this dimension is removed in the output tensor. When we squeeze in dimension 2 or in dimension 4, there is no change in the shape of the output tensor."
   ]
  }
 ],
 "metadata": {
  "kernelspec": {
   "display_name": "Python 3 (ipykernel)",
   "language": "python",
   "name": "python3"
  },
  "language_info": {
   "codemirror_mode": {
    "name": "ipython",
    "version": 3
   },
   "file_extension": ".py",
   "mimetype": "text/x-python",
   "name": "python",
   "nbconvert_exporter": "python",
   "pygments_lexer": "ipython3",
   "version": "3.10.9"
  }
 },
 "nbformat": 4,
 "nbformat_minor": 5
}
