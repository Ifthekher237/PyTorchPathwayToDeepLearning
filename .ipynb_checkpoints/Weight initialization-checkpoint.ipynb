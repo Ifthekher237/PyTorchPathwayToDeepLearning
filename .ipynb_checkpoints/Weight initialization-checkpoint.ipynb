{
 "cells": [
  {
   "cell_type": "markdown",
   "id": "50ef28b4",
   "metadata": {},
   "source": [
    "Visit this link to view different types of weight initialization method:\n",
    "https://pytorch.org/docs/stable/nn.init.html"
   ]
  },
  {
   "cell_type": "code",
   "execution_count": 2,
   "id": "ce053666",
   "metadata": {},
   "outputs": [],
   "source": [
    "import torch\n",
    "import torch.nn as nn"
   ]
  },
  {
   "cell_type": "code",
   "execution_count": 3,
   "id": "96ea03bd",
   "metadata": {},
   "outputs": [
    {
     "data": {
      "text/plain": [
       "Linear(in_features=5, out_features=5, bias=True)"
      ]
     },
     "execution_count": 3,
     "metadata": {},
     "output_type": "execute_result"
    }
   ],
   "source": [
    "#initially create a linear layer and access it's weights\n",
    "layer = nn.Linear(5,5)\n",
    "layer"
   ]
  },
  {
   "cell_type": "code",
   "execution_count": 4,
   "id": "d3fc5aa2",
   "metadata": {},
   "outputs": [
    {
     "data": {
      "text/plain": [
       "Parameter containing:\n",
       "tensor([[-0.0074, -0.4313,  0.0271, -0.2435,  0.3508],\n",
       "        [ 0.3326,  0.2012,  0.0841,  0.3262,  0.1556],\n",
       "        [ 0.0854, -0.3794, -0.2710, -0.1914, -0.3862],\n",
       "        [-0.1178,  0.1093, -0.0612,  0.2609,  0.1188],\n",
       "        [-0.2237, -0.3670, -0.4126,  0.1543,  0.0017]], requires_grad=True)"
      ]
     },
     "execution_count": 4,
     "metadata": {},
     "output_type": "execute_result"
    }
   ],
   "source": [
    "#to access the weights of the layers\n",
    "layer.weight"
   ]
  },
  {
   "cell_type": "code",
   "execution_count": 5,
   "id": "5efb1fc1",
   "metadata": {},
   "outputs": [
    {
     "data": {
      "text/plain": [
       "tensor([[-0.0074, -0.4313,  0.0271, -0.2435,  0.3508],\n",
       "        [ 0.3326,  0.2012,  0.0841,  0.3262,  0.1556],\n",
       "        [ 0.0854, -0.3794, -0.2710, -0.1914, -0.3862],\n",
       "        [-0.1178,  0.1093, -0.0612,  0.2609,  0.1188],\n",
       "        [-0.2237, -0.3670, -0.4126,  0.1543,  0.0017]])"
      ]
     },
     "execution_count": 5,
     "metadata": {},
     "output_type": "execute_result"
    }
   ],
   "source": [
    "#if we just want to extract the weight data\n",
    "layer.weight.data"
   ]
  },
  {
   "cell_type": "markdown",
   "id": "39659575",
   "metadata": {},
   "source": [
    "# Uniform distribution"
   ]
  },
  {
   "cell_type": "code",
   "execution_count": 7,
   "id": "e6d65f57",
   "metadata": {},
   "outputs": [
    {
     "data": {
      "text/plain": [
       "Parameter containing:\n",
       "tensor([[0.9865, 1.3096, 2.0779, 1.8543, 2.7495],\n",
       "        [2.7076, 1.8966, 0.1383, 1.3601, 0.1197],\n",
       "        [1.0159, 2.6194, 2.3701, 2.5046, 1.1396],\n",
       "        [0.6206, 2.3125, 1.7597, 1.3293, 1.6841],\n",
       "        [2.2100, 1.3446, 1.9831, 0.6279, 0.6509]], requires_grad=True)"
      ]
     },
     "execution_count": 7,
     "metadata": {},
     "output_type": "execute_result"
    }
   ],
   "source": [
    "#now we will use uniform weight initialization \n",
    "#nn.init.uniform_(tensor, a=min, b=max)\n",
    "#see uniform is an inplace operation, we can modify already created tensor of weight.\n",
    "nn.init.uniform_(layer.weight, a=0, b=3)"
   ]
  },
  {
   "cell_type": "markdown",
   "id": "2a356bcb",
   "metadata": {},
   "source": [
    "# Normal distribution"
   ]
  },
  {
   "cell_type": "code",
   "execution_count": 8,
   "id": "12dc6798",
   "metadata": {},
   "outputs": [
    {
     "data": {
      "text/plain": [
       "Parameter containing:\n",
       "tensor([[-0.0147,  0.2773, -0.2340,  0.7025, -0.1415],\n",
       "        [-0.0642, -0.1373, -0.9278,  0.0841,  0.2325],\n",
       "        [-1.5281,  1.9706,  0.7277,  0.5208,  2.2696],\n",
       "        [ 1.3558, -0.0715, -0.3536, -1.1408,  0.4176],\n",
       "        [-0.7229, -0.4758,  0.0793,  0.0946, -1.0895]], requires_grad=True)"
      ]
     },
     "execution_count": 8,
     "metadata": {},
     "output_type": "execute_result"
    }
   ],
   "source": [
    "nn.init.normal_(layer.weight, mean=0, std=1)\n",
    "#we can change the mean and standard deviation according to our application"
   ]
  },
  {
   "cell_type": "markdown",
   "id": "05509ddd",
   "metadata": {},
   "source": [
    "# Constant value\n",
    " we studied that, if we set all of our weights to same value, it leads to a serious problem. But when we set our biases, in that cases we can use  this constant value weight initialization technique."
   ]
  },
  {
   "cell_type": "code",
   "execution_count": 9,
   "id": "dfe56042",
   "metadata": {},
   "outputs": [
    {
     "data": {
      "text/plain": [
       "Parameter containing:\n",
       "tensor([0., 0., 0., 0., 0.], requires_grad=True)"
      ]
     },
     "execution_count": 9,
     "metadata": {},
     "output_type": "execute_result"
    }
   ],
   "source": [
    "nn.init.constant_(layer.bias, 0)"
   ]
  },
  {
   "cell_type": "code",
   "execution_count": 12,
   "id": "5587a7ff",
   "metadata": {},
   "outputs": [
    {
     "data": {
      "text/plain": [
       "Parameter containing:\n",
       "tensor([0., 0., 0., 0., 0.], requires_grad=True)"
      ]
     },
     "execution_count": 12,
     "metadata": {},
     "output_type": "execute_result"
    }
   ],
   "source": [
    "#alternative way of setting bias to zeros\n",
    "nn.init.zeros_(layer.bias)"
   ]
  },
  {
   "cell_type": "markdown",
   "id": "0ba685cf",
   "metadata": {},
   "source": [
    "# Xavier initialization"
   ]
  },
  {
   "cell_type": "code",
   "execution_count": 13,
   "id": "1e65023a",
   "metadata": {},
   "outputs": [
    {
     "data": {
      "text/plain": [
       "Parameter containing:\n",
       "tensor([[ 0.4952,  0.6450,  0.1572,  0.1950, -0.2333],\n",
       "        [ 0.2018,  0.6011, -0.6068, -0.4076,  0.7107],\n",
       "        [ 0.1462, -0.2949,  0.5533,  0.5500,  0.4321],\n",
       "        [-0.4588,  0.1976, -0.5303, -0.3195,  0.7570],\n",
       "        [ 0.3256, -0.3610,  0.7669, -0.0242,  0.2205]], requires_grad=True)"
      ]
     },
     "execution_count": 13,
     "metadata": {},
     "output_type": "execute_result"
    }
   ],
   "source": [
    "nn.init.xavier_uniform_(layer.weight, gain=1)"
   ]
  },
  {
   "cell_type": "code",
   "execution_count": 14,
   "id": "022a15d6",
   "metadata": {},
   "outputs": [
    {
     "name": "stderr",
     "output_type": "stream",
     "text": [
      "C:\\Users\\Ifthekher Uddin Chy\\AppData\\Local\\Temp\\ipykernel_2668\\3915886657.py:1: UserWarning: nn.init.xavier_normal is now deprecated in favor of nn.init.xavier_normal_.\n",
      "  nn.init.xavier_normal(layer.weight, gain=1)\n"
     ]
    },
    {
     "data": {
      "text/plain": [
       "Parameter containing:\n",
       "tensor([[-0.3224, -0.2205,  0.4279,  0.2927,  0.4726],\n",
       "        [ 0.7371,  0.5861, -0.2509,  0.4303, -0.2600],\n",
       "        [-0.5753,  0.2633,  0.2019, -0.7946, -0.0590],\n",
       "        [ 0.1780,  0.2014,  0.2154,  0.1619,  0.3781],\n",
       "        [-0.3715, -0.6067, -0.2076, -0.4693, -0.0506]], requires_grad=True)"
      ]
     },
     "execution_count": 14,
     "metadata": {},
     "output_type": "execute_result"
    }
   ],
   "source": [
    "nn.init.xavier_normal(layer.weight, gain=1)"
   ]
  },
  {
   "cell_type": "markdown",
   "id": "93bf7f7a",
   "metadata": {},
   "source": [
    "xavier_uniform takes sample from U(−a,a) whereas xavier_normal takes sample from N(0,std^2). To know more differences between them and other weight initialization technique check out the link given in the first cell."
   ]
  },
  {
   "cell_type": "code",
   "execution_count": null,
   "id": "975261da",
   "metadata": {},
   "outputs": [],
   "source": []
  },
  {
   "cell_type": "code",
   "execution_count": null,
   "id": "f37c8f41",
   "metadata": {},
   "outputs": [],
   "source": []
  },
  {
   "cell_type": "code",
   "execution_count": null,
   "id": "efdcaf3f",
   "metadata": {},
   "outputs": [],
   "source": []
  },
  {
   "cell_type": "code",
   "execution_count": null,
   "id": "be1b0fb2",
   "metadata": {},
   "outputs": [],
   "source": []
  },
  {
   "cell_type": "code",
   "execution_count": null,
   "id": "b3e8b720",
   "metadata": {},
   "outputs": [],
   "source": []
  },
  {
   "cell_type": "code",
   "execution_count": null,
   "id": "88db043a",
   "metadata": {},
   "outputs": [],
   "source": []
  },
  {
   "cell_type": "code",
   "execution_count": null,
   "id": "4e6d85ea",
   "metadata": {},
   "outputs": [],
   "source": []
  },
  {
   "cell_type": "code",
   "execution_count": null,
   "id": "654c432b",
   "metadata": {},
   "outputs": [],
   "source": []
  },
  {
   "cell_type": "code",
   "execution_count": null,
   "id": "fa499daf",
   "metadata": {},
   "outputs": [],
   "source": []
  },
  {
   "cell_type": "code",
   "execution_count": null,
   "id": "dca5ea54",
   "metadata": {},
   "outputs": [],
   "source": []
  },
  {
   "cell_type": "code",
   "execution_count": null,
   "id": "32102a4b",
   "metadata": {},
   "outputs": [],
   "source": []
  },
  {
   "cell_type": "code",
   "execution_count": null,
   "id": "2203227e",
   "metadata": {},
   "outputs": [],
   "source": []
  }
 ],
 "metadata": {
  "kernelspec": {
   "display_name": "Python 3 (ipykernel)",
   "language": "python",
   "name": "python3"
  },
  "language_info": {
   "codemirror_mode": {
    "name": "ipython",
    "version": 3
   },
   "file_extension": ".py",
   "mimetype": "text/x-python",
   "name": "python",
   "nbconvert_exporter": "python",
   "pygments_lexer": "ipython3",
   "version": "3.10.9"
  }
 },
 "nbformat": 4,
 "nbformat_minor": 5
}
