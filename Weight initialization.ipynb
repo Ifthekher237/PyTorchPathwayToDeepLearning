{
 "cells": [
  {
   "cell_type": "markdown",
   "id": "50ef28b4",
   "metadata": {},
   "source": [
    "Visit this link to view different types of weight initialization method:\n",
    "https://pytorch.org/docs/stable/nn.init.html"
   ]
  },
  {
   "cell_type": "code",
   "execution_count": null,
   "id": "ce053666",
   "metadata": {},
   "outputs": [],
   "source": [
    "import torch\n",
    "import torch.nn as nn"
   ]
  },
  {
   "cell_type": "code",
   "execution_count": null,
   "id": "96ea03bd",
   "metadata": {},
   "outputs": [],
   "source": [
    "#initially create a linear layer and access it's weights\n",
    "layer = nn.Linear(5,5)\n",
    "layer"
   ]
  },
  {
   "cell_type": "code",
   "execution_count": null,
   "id": "d3fc5aa2",
   "metadata": {},
   "outputs": [],
   "source": [
    "#to access the weights of the layers\n",
    "layer.weight"
   ]
  },
  {
   "cell_type": "code",
   "execution_count": null,
   "id": "5efb1fc1",
   "metadata": {},
   "outputs": [],
   "source": [
    "#if we just want to extract the weight data\n",
    "layer.weight.data"
   ]
  },
  {
   "cell_type": "markdown",
   "id": "39659575",
   "metadata": {},
   "source": [
    "# Uniform distribution"
   ]
  },
  {
   "cell_type": "code",
   "execution_count": null,
   "id": "e6d65f57",
   "metadata": {},
   "outputs": [],
   "source": [
    "#now we will use uniform weight initialization \n",
    "#nn.init.uniform_(tensor, a=min, b=max)\n",
    "#see uniform is an inplace operation, we can modify already created tensor of weight.\n",
    "nn.init.uniform_(layer.weight, a=0, b=3)"
   ]
  },
  {
   "cell_type": "markdown",
   "id": "2a356bcb",
   "metadata": {},
   "source": [
    "# Normal distribution"
   ]
  },
  {
   "cell_type": "code",
   "execution_count": null,
   "id": "12dc6798",
   "metadata": {},
   "outputs": [],
   "source": [
    "nn.init.normal_(layer.weight, mean=0, std=1)\n",
    "#we can change the mean and standard deviation according to our application"
   ]
  },
  {
   "cell_type": "markdown",
   "id": "05509ddd",
   "metadata": {},
   "source": [
    "# Constant value\n",
    " we studied that, if we set all of our weights to same value, it leads to a serious problem. But when we set our biases, in that cases we can use  this constant value weight initialization technique."
   ]
  },
  {
   "cell_type": "code",
   "execution_count": null,
   "id": "dfe56042",
   "metadata": {},
   "outputs": [],
   "source": [
    "nn.init.constant_(layer.bias, 0)"
   ]
  },
  {
   "cell_type": "code",
   "execution_count": null,
   "id": "5587a7ff",
   "metadata": {},
   "outputs": [],
   "source": [
    "#alternative way of setting bias to zeros\n",
    "nn.init.zeros_(layer.bias)"
   ]
  },
  {
   "cell_type": "markdown",
   "id": "0ba685cf",
   "metadata": {},
   "source": [
    "# Xavier initialization"
   ]
  },
  {
   "cell_type": "code",
   "execution_count": null,
   "id": "1e65023a",
   "metadata": {},
   "outputs": [],
   "source": [
    "nn.init.xavier_uniform_(layer.weight, gain=1)"
   ]
  },
  {
   "cell_type": "code",
   "execution_count": null,
   "id": "022a15d6",
   "metadata": {},
   "outputs": [],
   "source": [
    "nn.init.xavier_normal(layer.weight, gain=1)"
   ]
  },
  {
   "cell_type": "markdown",
   "id": "93bf7f7a",
   "metadata": {},
   "source": [
    "xavier_uniform takes sample from U(−a,a) whereas xavier_normal takes sample from N(0,std^2). To know more differences between them and other weight initialization technique check out the link given in the first cell."
   ]
  },
  {
   "cell_type": "code",
   "execution_count": null,
   "id": "975261da",
   "metadata": {},
   "outputs": [],
   "source": []
  }
 ],
 "metadata": {
  "kernelspec": {
   "display_name": "Python 3 (ipykernel)",
   "language": "python",
   "name": "python3"
  },
  "language_info": {
   "codemirror_mode": {
    "name": "ipython",
    "version": 3
   },
   "file_extension": ".py",
   "mimetype": "text/x-python",
   "name": "python",
   "nbconvert_exporter": "python",
   "pygments_lexer": "ipython3",
   "version": "3.10.9"
  }
 },
 "nbformat": 4,
 "nbformat_minor": 5
}
